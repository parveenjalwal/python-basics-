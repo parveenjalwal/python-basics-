{
  "nbformat": 4,
  "nbformat_minor": 0,
  "metadata": {
    "colab": {
      "provenance": []
    },
    "kernelspec": {
      "name": "python3",
      "display_name": "Python 3"
    },
    "language_info": {
      "name": "python"
    }
  },
  "cells": [
    {
      "cell_type": "markdown",
      "source": [
        " ## this section will cover all theoritical qustion of python."
      ],
      "metadata": {
        "id": "iHvo5_YFZRmP"
      }
    },
    {
      "cell_type": "markdown",
      "source": [
        "1.  What is Python, and why is it popular ?\n",
        "   - python is bassically a programming language , which is used to intract with computer ( for example = like as we humans use language to comunicate with each other ) same works with programing language as well .beacuse machines as we know computers understend input in binnary forms not like our language . python is set of rules and symboles which is used to write down a code in order to intract with computer . ultimatly pthon is a way to intract with computer ..\n",
        "   - why :\n",
        "   - 1. python is an easy to understend language ,syntexes are like english language .\n",
        "   - 2. python is widly used in industry by top 500 hundred fortune company\n",
        "   - 3. widly used in data fild too like - data science , data analytics\n",
        "   - 4. this is used in image proccesing\n",
        "   - 5. its a genral porpose language used in frontend , backend .\n",
        "   - 6.  little bit of portion is also used in AI e.g. chatgpt / gimini\n",
        "\n",
        "\n",
        "2.   What is an interpreter in Python ?\n",
        "     - An interpreter in Python is a program that reads and executes Python code line-by-line. Instead of compiling the entire program into machine code in advance (like in languages such as C++), the Python interpreter directly executes the instructions written in Python.\n",
        "\n",
        "\n",
        "3.  What are pre-defined keywords in Python ?\n",
        "    - keywords - keywords are basiclly pre defined words which have special mening and special pourpose . these words neither can be used as a varriable nor redfined . example = type() it is an predined keywords which comes in handy to check the data type of any declared varriabe ..\n",
        "\n",
        "\n",
        "4.  Can keywords be used as variable names ?\n",
        "    - No keywords can not be used as varrible name . but technically we can declare varriables using keywords but after declaration when we will go to write down some funtion using these keywords ,we will get an error beacuse system is confused with that keyword and after declration in varribale it will not be considred as keyword .\n",
        "    -  ex= print =\"parveen\" , print(\"new game\") here  we will get an error\n",
        "\n",
        "\n",
        "5. What is mutability in Python ?\n",
        "   - value/ object which can be converted / replaced with some anoter value right after declration is called mutability . mean values we are able to change . list is an mutable object ..\n",
        "\n",
        "\n",
        "6. Why are lists mutable, but tuples are immutable ?\n",
        "   - list = list is an a oject which can store all types of data type and mutiple values in diffrent - diffrent data type can be stored in . so after making list, gall values can be replced easily that why list is an imuutable .\n",
        "   - tuples = in tuples after declaration any kind of values can not be changed therefor tuples are imutable\n",
        "\n",
        "\n",
        " 7.  What is the difference between “==” and “is” operators in Python ?\n",
        "     - both are operators but diffrent to each other therefor that work is also diffrent to each other.\n",
        "\n",
        "     - \"==\" - it is an comarision operators called ' is eqaul to ' this operator is used to two comapare two values with each other whether they are true or false . it always gives value in boolan format ( true / False )\n",
        "\n",
        "     - 'is' = IT is an identity operator which is used to compare two values memory location . mean where both values are stored . if values are stored in same memory it will return true otherwise false ..\n",
        "\n",
        "\n",
        "8.  What are logical operators in Python ?\n",
        "   - logical operators == there are three type of logical operators we have in logical operators . which is used to perform some logical (mathmatical , conditions ) operation on objects/ values and return output in boolain values always (true / false ) ..\n",
        "   - three types:\n",
        "    - 1. And - both condition should be true in order to get true output otherwise in all rest cases output would be false\n",
        "    - 2. OR - here accept false - false all other cases gives true output .\n",
        "    - 3. NOT = always return opposite output\n",
        "\n",
        "\n",
        " 9.   What is type casting in Python ?\n",
        "     - the proccess of changing any  individual data type to diffrent data type is right after declration is called typecasting .\n",
        "     - some pattern of typecasting\n",
        "     - in order to replace any int. into string == int()\n",
        "     - in order to replace any int. into float == float()  \n",
        "\n",
        "\n",
        "10.  What is the difference between implicit and explicit type casting ?\n",
        "    - implicit -- here all declared values are identified by python itself . instance - 5 + 7 = 12 here data type will be identified by python afterwards outcome will be in apropreate data type , needles to define ( cut and dried ) .\n",
        "\n",
        "   - explicit -- here we will be converting data type from one to anoter is called explicit through typecasting ex= str to int , int to float , float to int .\n",
        "\n",
        "\n",
        "11.   What is the purpose of conditional statements in Python ?\n",
        "      - purpose of conditional statements == here out block of code gets totally relaye on condition ( mean if pertol tank is full so we will go out for ride else we will watch movie at home ) here perol tank is an condtion .\n",
        "\n",
        "      - condition - if our condtional statement is true or matches then our next block of code which we will be writing further , will be exicuted. if contion is false then our code block will not be exicuted .\n",
        "\n",
        "\n",
        "12. How does the elif statement work ?\n",
        "    - elif = elif statement can have multiple condition , mean n number of condition we can write inside elif statement . we might develope an better logic using elif statement . in our code right after the IF statement ELIF statment condition which we write is checked by system then it goes on to else, where our code gets end .\n",
        "\n",
        "\n",
        "13.  What is the difference between for and while loops ?\n",
        "     - loops = it keeps our code exicuting repatedly untill our written conditon does not get false/ matches .\n",
        "     - WHILE = IN while loop our perticuller block of code will be kept exicuting until or condition matches/ get false ( here break and continue statement is also included ) afterwords our esle statement is printed if there was no break inside the code .\n",
        "     - for  = it itrate each and every value in a sequnace , if our condition is true which is written right next to the FOR, our system will enter in further in loop otherwise loop will be exited . here each any every values are checked throughly .\n",
        "\n",
        "\n",
        "\n",
        "14 .  Describe a scenario where a while loop is more suitable than a for loop ?\n",
        "   - Imagine we are  building a  program to simulate a user trying to guess a secret number. The user doesn't know how many guesses it will take to find the correct number, so the loop continues until the correct guess is made. Since the number of attempts varies, a while loop is more ideal here then for loop\n",
        "   \n"
      ],
      "metadata": {
        "id": "0sANy3ILZysP"
      }
    },
    {
      "cell_type": "code",
      "source": [],
      "metadata": {
        "id": "-Rb46DUroK4N"
      },
      "execution_count": null,
      "outputs": []
    },
    {
      "cell_type": "markdown",
      "source": [
        "## now following qustion will be practical qustion"
      ],
      "metadata": {
        "id": "uybbKvVM_Ox-"
      }
    },
    {
      "cell_type": "code",
      "source": [
        " # QUS.1 . Write a Python program to print \"Hello, World!\n",
        "print (\"hello world\")"
      ],
      "metadata": {
        "colab": {
          "base_uri": "https://localhost:8080/"
        },
        "id": "Gxt9OFNj_kKj",
        "outputId": "5a69cc7d-e63b-4994-c5f9-7a7f0030ffde"
      },
      "execution_count": null,
      "outputs": [
        {
          "output_type": "stream",
          "name": "stdout",
          "text": [
            "hello world\n"
          ]
        }
      ]
    },
    {
      "cell_type": "code",
      "source": [
        "# QUS 2. Write a Python program that displays your name and age ?\n",
        "name =\"parveen\"\n",
        "age =20\n",
        "print(\"name -\",name)\n",
        "print(\"age -\",age)"
      ],
      "metadata": {
        "colab": {
          "base_uri": "https://localhost:8080/"
        },
        "id": "zx-ry41R_5Iw",
        "outputId": "e4b9d9a3-1b79-43bc-e9f9-9281d2fd584c"
      },
      "execution_count": null,
      "outputs": [
        {
          "output_type": "stream",
          "name": "stdout",
          "text": [
            "name - parveen\n",
            "age - 20\n"
          ]
        }
      ]
    },
    {
      "cell_type": "code",
      "source": [
        "# QUS 3. Write code to print all the pre-defined keywords in Python using the keyword library ?\n",
        "help(\"keywords\")"
      ],
      "metadata": {
        "colab": {
          "base_uri": "https://localhost:8080/"
        },
        "id": "AhETKWYvATKS",
        "outputId": "f571bbc1-eaaa-4ea1-dae1-6bb1ba23d920"
      },
      "execution_count": null,
      "outputs": [
        {
          "output_type": "stream",
          "name": "stdout",
          "text": [
            "\n",
            "Here is a list of the Python keywords.  Enter any keyword to get more help.\n",
            "\n",
            "False               class               from                or\n",
            "None                continue            global              pass\n",
            "True                def                 if                  raise\n",
            "and                 del                 import              return\n",
            "as                  elif                in                  try\n",
            "assert              else                is                  while\n",
            "async               except              lambda              with\n",
            "await               finally             nonlocal            yield\n",
            "break               for                 not                 \n",
            "\n"
          ]
        }
      ]
    },
    {
      "cell_type": "code",
      "source": [
        "#QUS 4. Write a program that checks if a given word is a Python keyword ?\n",
        "import keyword\n",
        "word =input(\"write down an any word\")\n",
        "if keyword.iskeyword(word):\n",
        "    print(f\"'{word}' is a Python keyword.\")\n",
        "else:\n",
        "    print(f\"'{word}' is not a Python keyword.\")"
      ],
      "metadata": {
        "id": "LDhuUy_XCQlJ",
        "colab": {
          "base_uri": "https://localhost:8080/"
        },
        "outputId": "152895f4-7819-4930-e6cd-84a29587ecb9"
      },
      "execution_count": 11,
      "outputs": [
        {
          "output_type": "stream",
          "name": "stdout",
          "text": [
            "write down an any wordclass\n",
            "'class' is a Python keyword.\n"
          ]
        }
      ]
    },
    {
      "cell_type": "code",
      "source": [
        "#qus 5. Create a list and tuple in Python, and demonstrate how attempting to change an element works differently for each ?\n",
        "# list 1.\n",
        "brands =[\"coca cola\",\"mrf\",\"tata\",True,123.5]\n",
        "brands [1] =\"addidas\" # here our mrf element has been changed\n",
        "print(brands)\n",
        "brands [-2] =False # here our ture element has been changed\n",
        "print(brands)\n",
        "\n",
        "# touples\n",
        "touples =(20,50, 104,\"rahul\",True,\"new bank\") # here we will try to change these elements stored in touples\n",
        "# touples (3) = 300   [ it will give an error becasue touples doesn,t support item assignment\n",
        "# means touples are immutable\n",
        "\n"
      ],
      "metadata": {
        "colab": {
          "base_uri": "https://localhost:8080/"
        },
        "id": "11gWRBC4U8nz",
        "outputId": "025aded7-176e-4adf-8a0e-f08d75dbae92"
      },
      "execution_count": 18,
      "outputs": [
        {
          "output_type": "stream",
          "name": "stdout",
          "text": [
            "['coca cola', 'addidas', 'tata', True, 123.5]\n",
            "['coca cola', 'addidas', 'tata', False, 123.5]\n"
          ]
        }
      ]
    },
    {
      "cell_type": "code",
      "source": [
        "# QUS 6/7. Write a function to demonstrate the behavior of mutable and immutable arguments ?\n",
        "# mutable means lits\n",
        "list1 =[\"parveen\",\"virat kohli\",True,200]\n",
        "list1 [1] =\"ms dhoni\"\n",
        "print(list1)\n",
        "list1 [-1] =5000\n",
        "print(list1)\n",
        "\n",
        "# on the onther hand individual string and toupls are immmutable\n",
        "name =\"mr singh\"\n",
        " # name [4] =\"b\"   > here we will get an error of string does not support item assignment\n",
        "tuples1 =(20, 45, 87,\"sahil\")\n",
        "# touples1 (-1) =\"verma\"  > same eror will get that tuple does not suppor titem assignment"
      ],
      "metadata": {
        "colab": {
          "base_uri": "https://localhost:8080/"
        },
        "id": "89FUMT-_XB9L",
        "outputId": "9eccd661-daba-4e2d-8adc-0c38460a6938"
      },
      "execution_count": 24,
      "outputs": [
        {
          "output_type": "stream",
          "name": "stdout",
          "text": [
            "['parveen', 'ms dhoni', True, 200]\n",
            "['parveen', 'ms dhoni', True, 5000]\n"
          ]
        }
      ]
    },
    {
      "cell_type": "code",
      "source": [
        "#QUS 8. Write a program to demonstrate the use of logical operators ?\n",
        "# three types of logical operators which are  described bellow -\n",
        "a = 345\n",
        "b =7867\n",
        "c =3422\n",
        "\n",
        "and1 = a <=b and c== 3422\n",
        "print(\"and1 =\",and1)\n",
        "and2 = (a != b or  c>= a ) and (c <= 2000 or b <= c)\n",
        "print(\"and2 =\",and2)\n",
        "\n",
        "or1 = b == a or c >= a\n",
        "print(\"or1 =\",or1)\n",
        "or2 = (a >= b and b >=c) or (b != c and c <= a)\n",
        "print(\"or2 =\",or2)\n",
        "\n",
        "not1 = not b != c\n",
        "print(\"not1 =\",not1)\n",
        "not2 = not a >= b\n",
        "print(\"not2 =\",not2)"
      ],
      "metadata": {
        "colab": {
          "base_uri": "https://localhost:8080/"
        },
        "id": "vwyrbol0bs5U",
        "outputId": "c89effb7-5049-4217-ba71-41139b13cec2"
      },
      "execution_count": 31,
      "outputs": [
        {
          "output_type": "stream",
          "name": "stdout",
          "text": [
            "and1 = True\n",
            "and2 = False\n",
            "or1 = True\n",
            "or2 = False\n",
            "not1 = False\n",
            "not2 = True\n"
          ]
        }
      ]
    },
    {
      "cell_type": "code",
      "source": [
        " #QUS 9. Write a Python program to convert user input from string to integer, float, and boolean types ?\n",
        "value =input(\"please write down the value in numaric format\")\n",
        "int_value =int(value)\n",
        "print(value,type(value))\n",
        "print(value,type(int_value))\n",
        "float_value =float(value)\n",
        "print(value,type(float_value))\n",
        "\n",
        "value1 =input(\"please write down value in true or false- \")\n",
        "print(value1,type(value1))\n",
        "new_v = bool(value1)\n",
        "print(new_v,type(new_v))\n",
        "\n",
        "# beacause individual actual string that contains latter only can not be changed"
      ],
      "metadata": {
        "colab": {
          "base_uri": "https://localhost:8080/"
        },
        "id": "cecrd4rqea8J",
        "outputId": "d1615e97-d898-40b3-d1c9-9527d02be8c6"
      },
      "execution_count": 47,
      "outputs": [
        {
          "output_type": "stream",
          "name": "stdout",
          "text": [
            "please write down the value in numaric format3325\n",
            "3325 <class 'str'>\n",
            "3325 <class 'int'>\n",
            "3325 <class 'float'>\n",
            "please write down value in true or false- False \n",
            "False  <class 'str'>\n",
            "True <class 'bool'>\n"
          ]
        }
      ]
    },
    {
      "cell_type": "code",
      "source": [
        "#QUS 10.  Write code to demonstrate type casting with list elements ?\n",
        "content = [\"parveen\",'12',\"rohit sahrma\",True,3525]\n",
        "print(content)\n",
        "print(content[1], type(content[1]))\n",
        "print(content[-1], type(content[-1]))\n",
        "print(content[-2], type(content[-2]))\n",
        "\n",
        "content1 = str(content[-1])\n",
        "content2 =int(content[1])\n",
        "content3 =str(content[-2])\n",
        "print(\"new data types chnged by typcasting\")\n",
        "# now thses above lists items data type has been changed here we can figure out by print\n",
        "print(content[-1],type(content1))\n",
        "print(content[1], type(content2))\n",
        "print(content[-2], type(content3))\n",
        "\n"
      ],
      "metadata": {
        "colab": {
          "base_uri": "https://localhost:8080/"
        },
        "id": "azJAO2jAiiby",
        "outputId": "d1b16018-6801-475a-f552-74aeb9528411"
      },
      "execution_count": 61,
      "outputs": [
        {
          "output_type": "stream",
          "name": "stdout",
          "text": [
            "['parveen', '12', 'rohit sahrma', True, 3525]\n",
            "12 <class 'str'>\n",
            "3525 <class 'int'>\n",
            "True <class 'bool'>\n",
            "new data types chnged by typcasting\n",
            "3525 <class 'str'>\n",
            "12 <class 'int'>\n",
            "True <class 'str'>\n"
          ]
        }
      ]
    },
    {
      "cell_type": "code",
      "source": [
        "#QUS 11. Write a program that checks if a number is positive, negative, or zero ?\n",
        "num =-3434\n",
        "if (num < 0):\n",
        "  print(num,\"this is an negetive number\")\n",
        "elif (num == 0):\n",
        "  print(num,\"this is an zero\")\n",
        "else:\n",
        "  print(\"this is an positive number\")"
      ],
      "metadata": {
        "colab": {
          "base_uri": "https://localhost:8080/"
        },
        "id": "YjVlMGj1oc4u",
        "outputId": "12f6d8f1-7e56-4d4c-d787-2a702f8702c0"
      },
      "execution_count": 65,
      "outputs": [
        {
          "output_type": "stream",
          "name": "stdout",
          "text": [
            "-3434 this is an negetive number\n"
          ]
        }
      ]
    },
    {
      "cell_type": "code",
      "source": [
        "#QUS 12.  Write a for loop to print numbers from 1 to 10 ?\n",
        "for a in range(1,11):\n",
        "  print(a)"
      ],
      "metadata": {
        "colab": {
          "base_uri": "https://localhost:8080/"
        },
        "id": "YNb1XdKYs6bz",
        "outputId": "e32ab2a4-2a74-493a-b730-c8e2fbd89d49"
      },
      "execution_count": 71,
      "outputs": [
        {
          "output_type": "stream",
          "name": "stdout",
          "text": [
            "1\n",
            "2\n",
            "3\n",
            "4\n",
            "5\n",
            "6\n",
            "7\n",
            "8\n",
            "9\n",
            "10\n"
          ]
        }
      ]
    },
    {
      "cell_type": "code",
      "source": [
        "#qus 13. Write a Python program to find the sum of all even numbers between 1 and 50?\n",
        "total = 0\n",
        "for num in range(1,51):\n",
        "  if num % 2 ==0:\n",
        "    total += num # total = total + num\n",
        "print(\"the sum of all even numbers between 1 and 50 is:\",total)\n"
      ],
      "metadata": {
        "colab": {
          "base_uri": "https://localhost:8080/"
        },
        "id": "aykmpYZZtrgE",
        "outputId": "1dbce964-2b32-4500-dd79-7ab5bc311ecb"
      },
      "execution_count": 82,
      "outputs": [
        {
          "output_type": "stream",
          "name": "stdout",
          "text": [
            "the sum of all even numbers between 1 and 50 is: 650\n"
          ]
        }
      ]
    },
    {
      "cell_type": "code",
      "source": [
        "#qus 14. Write a program to reverse a string using a while loop ?\n",
        "string = \"parveen\"\n",
        "reverse =\"\"\n",
        "index = len(string) - 1\n",
        "while index >= 0:\n",
        "    reverse += string[index]\n",
        "    index -= 1\n",
        "    print(\"reverse: \",reverse)"
      ],
      "metadata": {
        "colab": {
          "base_uri": "https://localhost:8080/"
        },
        "id": "Uz3vlXdd042y",
        "outputId": "f74a9393-7d0e-4bb3-8227-813950ca10b6"
      },
      "execution_count": 91,
      "outputs": [
        {
          "output_type": "stream",
          "name": "stdout",
          "text": [
            "reverse:  n\n",
            "reverse:  ne\n",
            "reverse:  nee\n",
            "reverse:  neev\n",
            "reverse:  neevr\n",
            "reverse:  neevra\n",
            "reverse:  neevrap\n"
          ]
        }
      ]
    },
    {
      "cell_type": "code",
      "source": [],
      "metadata": {
        "id": "Eye8uxsq4pd6"
      },
      "execution_count": null,
      "outputs": []
    }
  ]
}